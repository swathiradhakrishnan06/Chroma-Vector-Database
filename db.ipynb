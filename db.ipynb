{
 "cells": [
  {
   "cell_type": "code",
   "execution_count": 2,
   "metadata": {},
   "outputs": [],
   "source": [
    "import chromadb"
   ]
  },
  {
   "cell_type": "markdown",
   "metadata": {},
   "source": [
    "Chroma Client"
   ]
  },
  {
   "cell_type": "code",
   "execution_count": 3,
   "metadata": {},
   "outputs": [],
   "source": [
    "client = chromadb.Client()"
   ]
  },
  {
   "cell_type": "code",
   "execution_count": 4,
   "metadata": {},
   "outputs": [
    {
     "data": {
      "text/plain": [
       "Collection(name=news)"
      ]
     },
     "execution_count": 4,
     "metadata": {},
     "output_type": "execute_result"
    }
   ],
   "source": [
    "collection = client.create_collection(name=\"news\")\n",
    "collection"
   ]
  },
  {
   "cell_type": "code",
   "execution_count": 5,
   "metadata": {},
   "outputs": [
    {
     "name": "stderr",
     "output_type": "stream",
     "text": [
      "/Users/swathiradhakrishnan/.cache/chroma/onnx_models/all-MiniLM-L6-v2/onnx.tar.gz: 100%|██████████| 79.3M/79.3M [00:14<00:00, 5.71MiB/s]\n"
     ]
    }
   ],
   "source": [
    "collection.add(\n",
    "    documents=[\n",
    "        \"Apple reported its quarterly earnings today\",\n",
    "        \"Apple has a lot of vitamin A\"\n",
    "    ],\n",
    "    ids=[\"id1\", \"id2\"]\n",
    ")"
   ]
  },
  {
   "cell_type": "markdown",
   "metadata": {},
   "source": [
    "Quering Collection"
   ]
  },
  {
   "cell_type": "code",
   "execution_count": 6,
   "metadata": {},
   "outputs": [
    {
     "data": {
      "text/plain": [
       "{'ids': [['id1', 'id2']],\n",
       " 'embeddings': None,\n",
       " 'documents': [['Apple reported its quarterly earnings today',\n",
       "   'Apple has a lot of vitamin A']],\n",
       " 'uris': None,\n",
       " 'included': ['metadatas', 'documents', 'distances'],\n",
       " 'data': None,\n",
       " 'metadatas': [[None, None]],\n",
       " 'distances': [[1.4136261940002441, 1.7049864530563354]]}"
      ]
     },
     "execution_count": 6,
     "metadata": {},
     "output_type": "execute_result"
    }
   ],
   "source": [
    "collection.query(\n",
    "    query_texts=[\"New iphone will launch in september\"],\n",
    "    n_results= 2\n",
    ")"
   ]
  },
  {
   "cell_type": "code",
   "execution_count": 7,
   "metadata": {},
   "outputs": [
    {
     "data": {
      "text/plain": [
       "{'ids': [['id2', 'id1']],\n",
       " 'embeddings': None,\n",
       " 'documents': [['Apple has a lot of vitamin A',\n",
       "   'Apple reported its quarterly earnings today']],\n",
       " 'uris': None,\n",
       " 'included': ['metadatas', 'documents', 'distances'],\n",
       " 'data': None,\n",
       " 'metadatas': [[None, None]],\n",
       " 'distances': [[1.3456089496612549, 1.7572938203811646]]}"
      ]
     },
     "execution_count": 7,
     "metadata": {},
     "output_type": "execute_result"
    }
   ],
   "source": [
    "collection.query(\n",
    "    query_texts=[\"Doctor suggested my mother to eat citric fruits\"],\n",
    "    n_results=2\n",
    ")"
   ]
  },
  {
   "cell_type": "code",
   "execution_count": 9,
   "metadata": {},
   "outputs": [
    {
     "data": {
      "text/plain": [
       "array([ 3.43889669e-02,  4.53302488e-02,  3.35943699e-02,  3.27745005e-02,\n",
       "       -1.51062908e-03, -5.00667058e-02,  1.25939725e-02, -4.37261127e-02,\n",
       "        4.92361709e-02,  4.62551340e-02,  6.32305741e-02,  2.45131515e-02,\n",
       "       -4.13523689e-02,  1.53688043e-02, -1.27223106e-02, -1.66666750e-02,\n",
       "       -9.36637912e-03, -4.49326150e-02,  1.57926995e-02, -1.62688289e-02,\n",
       "       -4.21716422e-02,  4.30162717e-03,  6.12715185e-02,  1.32648405e-02,\n",
       "        1.54016256e-01,  4.45452258e-02, -7.05872988e-03,  1.30078550e-02,\n",
       "       -3.38342972e-02, -4.22298610e-02, -1.04623906e-01,  1.58267934e-02,\n",
       "        8.00960362e-02,  2.73248460e-02,  9.12597054e-04, -7.03276172e-02,\n",
       "        4.54225987e-02, -3.57186049e-02,  2.72022141e-03, -1.96272656e-02,\n",
       "       -4.00674120e-02,  1.31088505e-02,  1.54401241e-02,  6.17499985e-02,\n",
       "       -7.88003877e-02, -3.99145000e-02,  8.68621934e-03,  1.88715551e-02,\n",
       "        2.48146299e-02,  1.28597453e-01,  1.90437119e-03, -4.67963777e-02,\n",
       "        7.34508559e-02, -1.06843393e-02, -2.32684668e-02,  3.74581777e-02,\n",
       "        1.52639681e-02, -7.70227164e-02,  9.98890102e-02,  3.69930379e-02,\n",
       "       -1.03389495e-03, -2.88014230e-03,  8.77441280e-03,  4.58677784e-02,\n",
       "        1.09103031e-01, -1.70526654e-02,  7.65309110e-03, -1.97416004e-02,\n",
       "       -9.85557437e-02, -2.27055326e-03,  8.19403231e-02, -6.31250888e-02,\n",
       "        1.75878815e-02, -4.14006338e-02, -1.45146996e-02,  7.10854828e-02,\n",
       "        3.78383584e-02, -2.73981178e-03, -1.72330544e-03,  4.51589376e-03,\n",
       "       -5.31724729e-02,  2.91998982e-02, -2.13447604e-02,  3.64425592e-02,\n",
       "        2.62514371e-02, -5.84383449e-03,  3.62310596e-02,  5.85274398e-03,\n",
       "       -7.71830529e-02,  2.15382110e-02,  2.97360811e-02,  5.24013080e-02,\n",
       "        2.17024889e-02,  7.13924691e-03, -1.59998816e-02, -8.14188942e-02,\n",
       "       -2.45859884e-02, -8.42122212e-02,  1.48619097e-02,  2.47576740e-02,\n",
       "        2.80327294e-02,  5.99442683e-02, -1.41663523e-02, -2.85259299e-02,\n",
       "        9.86914523e-03, -6.79977387e-02,  1.44453649e-03,  2.44082771e-02,\n",
       "       -3.41261132e-03,  7.23863170e-02,  5.98523840e-02, -7.45451264e-03,\n",
       "       -2.07595378e-02, -1.35474419e-02,  5.00794733e-03,  9.98865347e-03,\n",
       "       -3.01842839e-02,  8.05909708e-02,  9.30195972e-02,  6.92975614e-03,\n",
       "        3.86082605e-02,  6.10594600e-02, -5.40589876e-02,  9.19109269e-04,\n",
       "       -1.81052722e-02,  4.02769931e-02,  1.00638822e-03, -2.98493170e-33,\n",
       "        2.27347575e-02,  8.88051838e-03, -4.45674499e-03, -6.40373975e-02,\n",
       "       -1.32741211e-02, -5.24453968e-02,  2.08826512e-02,  2.89929863e-02,\n",
       "        5.65431975e-02, -7.85072818e-02, -5.03088236e-02,  1.06648784e-02,\n",
       "        3.54210995e-02, -6.66568130e-02, -5.50749712e-02, -3.17025483e-02,\n",
       "        1.24083189e-02,  6.00940883e-02, -6.24416675e-03,  5.38356081e-02,\n",
       "        5.12293167e-02, -1.15562476e-01,  3.59884128e-02, -3.47627662e-02,\n",
       "       -1.84466562e-03,  3.04263849e-02,  6.97174389e-03, -7.05919787e-02,\n",
       "       -8.43481161e-03,  1.29033606e-02,  7.45494515e-02, -1.97867751e-02,\n",
       "        9.90504548e-02, -1.15404993e-01, -3.07787582e-02, -6.90290099e-03,\n",
       "        2.42170226e-02,  5.57004176e-02,  5.94930798e-02,  6.48497269e-02,\n",
       "       -2.83969268e-02, -4.86019813e-02, -4.76843398e-03, -1.10768124e-01,\n",
       "        4.23636567e-03,  3.21024619e-02, -6.55239001e-02,  3.86654027e-02,\n",
       "       -1.31640583e-02, -3.37762129e-03, -5.83383255e-02, -1.09866271e-02,\n",
       "       -5.99153992e-03, -6.30680323e-02,  4.99262416e-04,  7.90458452e-03,\n",
       "        1.27728386e-02, -8.07579383e-02, -1.15223927e-02,  3.44624035e-02,\n",
       "       -2.04022359e-02,  1.00883864e-01,  4.11284454e-02, -5.46318516e-02,\n",
       "       -1.49887472e-01,  8.66820291e-02,  5.63686080e-02,  5.79143502e-02,\n",
       "        5.98318642e-03,  1.25245020e-01, -4.88397442e-02,  3.02273426e-02,\n",
       "        3.29382308e-02,  9.64479521e-03, -4.23225798e-02, -2.03082655e-02,\n",
       "       -1.37229608e-02, -6.93040937e-02,  2.65024472e-02,  2.51572002e-02,\n",
       "        4.93645817e-02, -1.03172362e-02,  6.83865324e-02,  1.08109266e-02,\n",
       "       -1.92413945e-03,  1.05410449e-01,  8.12931918e-03,  1.00151822e-01,\n",
       "        3.41746844e-02,  5.27817458e-02,  1.26982573e-02,  2.77194045e-02,\n",
       "       -3.08629721e-02, -6.44848449e-03, -8.28936845e-02,  1.52371141e-33,\n",
       "        2.18059234e-02,  6.42601550e-02, -7.68667981e-02, -1.17344379e-01,\n",
       "       -9.88318026e-02, -3.02372910e-02, -3.24586444e-02,  1.03833735e-01,\n",
       "       -3.65700275e-02,  6.57091439e-02,  6.78483769e-02,  4.99525741e-02,\n",
       "       -1.14759117e-01, -1.78479385e-02,  6.04638597e-03, -2.86833588e-02,\n",
       "       -1.36116508e-03, -8.58429670e-02,  3.17024849e-02,  8.17704853e-03,\n",
       "        3.63702625e-02,  2.73133186e-03,  8.77237767e-02,  3.37113254e-02,\n",
       "        1.37349758e-02, -3.07449065e-02,  2.37625316e-02,  6.12308495e-02,\n",
       "        1.58510264e-03,  2.03751158e-02,  5.49270585e-02, -5.85033931e-02,\n",
       "       -5.40128648e-02,  2.80178711e-02,  8.82080048e-02, -8.74330103e-02,\n",
       "       -3.06889694e-02, -2.72004399e-02,  5.73953986e-02, -3.79744265e-03,\n",
       "        3.84593420e-02,  9.98828467e-03, -4.14189436e-02,  6.88006952e-02,\n",
       "        6.31015189e-03,  3.12045496e-02,  5.18205948e-02,  4.51144651e-02,\n",
       "        8.40335190e-02, -1.30490512e-02, -3.95607501e-02, -4.27308679e-03,\n",
       "       -2.82573178e-02,  7.06066117e-02, -9.66468900e-02,  4.38415818e-02,\n",
       "       -5.22432774e-02,  4.04372811e-03, -3.14582847e-02, -1.73425190e-02,\n",
       "       -7.16375411e-02,  7.80001804e-02,  7.04491138e-02, -4.67597842e-02,\n",
       "        1.60858147e-02, -1.77079532e-02,  2.76044309e-02, -4.30724956e-03,\n",
       "        8.51835087e-02,  2.91150156e-03,  5.13658337e-02,  5.07780574e-02,\n",
       "       -2.29253303e-02, -9.03249756e-02, -3.86565663e-02,  1.35301650e-01,\n",
       "       -1.17364037e-03, -6.44902363e-02, -3.99046689e-02,  4.53335457e-02,\n",
       "        4.64818291e-02,  1.31188139e-01,  4.98204306e-03,  1.45500591e-02,\n",
       "       -1.54179195e-02, -1.28229931e-02,  3.40844989e-02,  3.02913245e-02,\n",
       "       -2.21182425e-02,  6.07114658e-02, -4.93519902e-02, -8.22021812e-02,\n",
       "       -8.92925784e-02,  3.38932276e-02, -2.16907877e-02, -1.53320414e-08,\n",
       "        4.02358323e-02, -1.36923948e-02,  5.28283343e-02, -1.44858724e-02,\n",
       "        2.87663620e-02, -4.78111440e-03,  2.18135510e-02, -4.12846953e-02,\n",
       "        6.25237301e-02, -3.70283835e-02, -2.33979207e-02, -4.20080945e-02,\n",
       "       -1.97183415e-01, -1.26949628e-03, -1.76301971e-02, -2.96762828e-02,\n",
       "       -5.91549501e-02,  4.90124300e-02, -5.31534012e-03, -9.04672742e-02,\n",
       "       -5.81732132e-02,  4.50719427e-03,  1.79153532e-02, -5.14999516e-02,\n",
       "       -4.39860336e-02,  6.30981475e-03, -5.87834157e-02, -3.00945202e-03,\n",
       "        2.10962668e-02,  1.03545506e-02,  6.87176653e-04,  3.91970240e-02,\n",
       "       -3.58883804e-03, -4.45241332e-02, -5.54112121e-02, -6.56039640e-02,\n",
       "        3.81262302e-02,  5.19977026e-02,  4.40444723e-02, -1.22014526e-02,\n",
       "       -6.51038960e-02, -8.86111856e-02,  1.17642405e-02, -3.85354422e-02,\n",
       "       -1.08320124e-01, -2.03765761e-02, -6.89619780e-02, -3.50620635e-02,\n",
       "        1.34147229e-02, -1.61178876e-02,  4.33415733e-02, -8.49066526e-02,\n",
       "        4.56634276e-02,  3.90441492e-02, -2.89726388e-02,  2.38721874e-02,\n",
       "       -4.61293049e-02, -8.39165151e-02, -9.84890088e-02, -5.50211640e-03,\n",
       "        6.08652644e-02, -1.12170354e-01,  3.78936268e-02, -4.39371448e-03])"
      ]
     },
     "execution_count": 9,
     "metadata": {},
     "output_type": "execute_result"
    }
   ],
   "source": [
    "collection.peek()['embeddings'][0]"
   ]
  },
  {
   "cell_type": "markdown",
   "metadata": {},
   "source": [
    "Persistent Client"
   ]
  },
  {
   "cell_type": "code",
   "execution_count": 10,
   "metadata": {},
   "outputs": [],
   "source": [
    "client_p = chromadb.PersistentClient(path='./news_db')"
   ]
  },
  {
   "cell_type": "markdown",
   "metadata": {},
   "source": [
    "Embedding functions (Default: all-MiniLM-L6-v2)"
   ]
  },
  {
   "cell_type": "code",
   "execution_count": 11,
   "metadata": {},
   "outputs": [
    {
     "name": "stderr",
     "output_type": "stream",
     "text": [
      "/Users/swathiradhakrishnan/Documents/Agentic AI/Chroma DB/.venv/lib/python3.13/site-packages/tqdm/auto.py:21: TqdmWarning: IProgress not found. Please update jupyter and ipywidgets. See https://ipywidgets.readthedocs.io/en/stable/user_install.html\n",
      "  from .autonotebook import tqdm as notebook_tqdm\n"
     ]
    }
   ],
   "source": [
    "from chromadb.utils import embedding_functions\n",
    "ef = embedding_functions.SentenceTransformerEmbeddingFunction(\n",
    "    model_name=\"all-distilroberta-v1\"\n",
    ")\n",
    "collection = client_p.create_collection(name='news_vector', embedding_function=ef)"
   ]
  },
  {
   "cell_type": "code",
   "execution_count": 12,
   "metadata": {},
   "outputs": [],
   "source": [
    "collection.add(\n",
    "    documents=[\n",
    "        \"Apple reported its quarterly earnings today\",\n",
    "        \"Apple has a lot of vitamin A\"\n",
    "    ],\n",
    "    ids=[\"id1\", \"id2\"]\n",
    ")"
   ]
  },
  {
   "cell_type": "code",
   "execution_count": 18,
   "metadata": {},
   "outputs": [
    {
     "data": {
      "text/plain": [
       "{'ids': [['id1', 'id2']],\n",
       " 'embeddings': None,\n",
       " 'documents': [['Apple reported its quarterly earnings today',\n",
       "   'Apple has a lot of vitamin A']],\n",
       " 'uris': None,\n",
       " 'included': ['metadatas', 'documents', 'distances'],\n",
       " 'data': None,\n",
       " 'metadatas': [[None, None]],\n",
       " 'distances': [[1.4540897607803345, 1.6653056144714355]]}"
      ]
     },
     "execution_count": 18,
     "metadata": {},
     "output_type": "execute_result"
    }
   ],
   "source": [
    "collection.query(\n",
    "    query_texts=[\"New iphone will launch in september\"],\n",
    "    n_results= 2\n",
    ")"
   ]
  },
  {
   "cell_type": "code",
   "execution_count": 19,
   "metadata": {},
   "outputs": [
    {
     "data": {
      "text/plain": [
       "1749031194073652000"
      ]
     },
     "execution_count": 19,
     "metadata": {},
     "output_type": "execute_result"
    }
   ],
   "source": [
    "client_p.heartbeat()"
   ]
  },
  {
   "cell_type": "markdown",
   "metadata": {},
   "source": [
    "Add, Update, Delete"
   ]
  },
  {
   "cell_type": "code",
   "execution_count": 20,
   "metadata": {},
   "outputs": [],
   "source": [
    "client_r = chromadb.Client()"
   ]
  },
  {
   "cell_type": "code",
   "execution_count": 21,
   "metadata": {},
   "outputs": [],
   "source": [
    "from datetime import datetime\n",
    "collection = client_r.create_collection(name=\"product_reviews\", metadata={\"description\":\"Reviews of products\", \"created\": str(datetime.now())})"
   ]
  },
  {
   "cell_type": "code",
   "execution_count": 22,
   "metadata": {},
   "outputs": [],
   "source": [
    "documents = [\n",
    "    \"This phone has an amazing battery life.\",\n",
    "    \"The screen quality is poor and not worth the price.\",\n",
    "    \"Excellent sound clarity and build quality.\",\n",
    "    \"Battery drains quickly, not suitable for travel.\",\n",
    "    \"Highly durable and water-resistant smartwatch.\",\n",
    "    \"The audio is muffled and not loud enough.\",\n",
    "    \"Camera quality exceeds expectations in low light.\",\n",
    "    \"Display is vibrant, great for watching movies.\",\n",
    "]\n",
    "\n",
    "metadatas = [\n",
    "    {\"product_id\": \"P123\", \"category\": \"Electronics\", \"rating\": 5},\n",
    "    {\"product_id\": \"P123\", \"category\": \"Electronics\", \"rating\": 2},\n",
    "    {\"product_id\": \"P456\", \"category\": \"Audio\", \"rating\": 4},\n",
    "    {\"product_id\": \"P123\", \"category\": \"Electronics\", \"rating\": 1},\n",
    "    {\"product_id\": \"P789\", \"category\": \"Wearables\", \"rating\": 5},\n",
    "    {\"product_id\": \"P456\", \"category\": \"Audio\", \"rating\": 2},\n",
    "    {\"product_id\": \"P321\", \"category\": \"Cameras\", \"rating\": 4},\n",
    "    {\"product_id\": \"P123\", \"category\": \"Electronics\", \"rating\": 4},\n",
    "]\n",
    "\n",
    "ids = [\n",
    "    \"doc1\", \"doc2\", \"doc3\", \"doc4\",\n",
    "    \"doc5\", \"doc6\", \"doc7\", \"doc8\"\n",
    "]\n",
    "\n",
    "collection.add(ids=ids, metadatas=metadatas, documents=documents)"
   ]
  },
  {
   "cell_type": "code",
   "execution_count": 27,
   "metadata": {},
   "outputs": [
    {
     "data": {
      "text/plain": [
       "{'ids': [['doc3', 'doc6', 'doc2']],\n",
       " 'embeddings': None,\n",
       " 'documents': [['Excellent sound clarity and build quality.',\n",
       "   'The audio is muffled and not loud enough.',\n",
       "   'The screen quality is poor and not worth the price.']],\n",
       " 'uris': None,\n",
       " 'included': ['metadatas', 'documents', 'distances'],\n",
       " 'data': None,\n",
       " 'metadatas': [[{'rating': 4, 'product_id': 'P456', 'category': 'Audio'},\n",
       "   {'rating': 2, 'category': 'Audio', 'product_id': 'P456'},\n",
       "   {'category': 'Electronics', 'product_id': 'P123', 'rating': 2}]],\n",
       " 'distances': [[0.5910329222679138, 1.016019582748413, 1.1162805557250977]]}"
      ]
     },
     "execution_count": 27,
     "metadata": {},
     "output_type": "execute_result"
    }
   ],
   "source": [
    "collection.query(query_texts=\"sound quality\", n_results=3)"
   ]
  },
  {
   "cell_type": "code",
   "execution_count": 28,
   "metadata": {},
   "outputs": [
    {
     "data": {
      "text/plain": [
       "{'ids': [['doc3', 'doc6']],\n",
       " 'embeddings': None,\n",
       " 'documents': [['Excellent sound clarity and build quality.',\n",
       "   'The audio is muffled and not loud enough.']],\n",
       " 'uris': None,\n",
       " 'included': ['metadatas', 'documents', 'distances'],\n",
       " 'data': None,\n",
       " 'metadatas': [[{'rating': 4, 'product_id': 'P456', 'category': 'Audio'},\n",
       "   {'rating': 2, 'product_id': 'P456', 'category': 'Audio'}]],\n",
       " 'distances': [[0.5910329222679138, 1.016019582748413]]}"
      ]
     },
     "execution_count": 28,
     "metadata": {},
     "output_type": "execute_result"
    }
   ],
   "source": [
    "collection.query(query_texts=\"sound quality\", n_results=3, where={\"category\":\"Audio\"})"
   ]
  },
  {
   "cell_type": "code",
   "execution_count": 33,
   "metadata": {},
   "outputs": [],
   "source": [
    "collection.update(documents=['There is a setting to be done for the louder audio output. Sound quality is great'],\n",
    "                  ids=['doc6'],\n",
    "                  metadatas=[{\"category\":\"Audio\",\"rating\":4}])"
   ]
  },
  {
   "cell_type": "code",
   "execution_count": 34,
   "metadata": {},
   "outputs": [
    {
     "data": {
      "text/plain": [
       "{'ids': ['doc1', 'doc2', 'doc3', 'doc4', 'doc5', 'doc6', 'doc7', 'doc8'],\n",
       " 'embeddings': array([[-0.0665448 ,  0.0415802 ,  0.02805798, ...,  0.00156581,\n",
       "         -0.0013664 ,  0.04444058],\n",
       "        [-0.03157043,  0.00038221,  0.02809887, ..., -0.02083447,\n",
       "          0.01370098,  0.09151227],\n",
       "        [-0.04998122, -0.00628815,  0.0270207 , ...,  0.07026031,\n",
       "         -0.01461971,  0.05089299],\n",
       "        ...,\n",
       "        [ 0.06710169, -0.10688053, -0.04933071, ...,  0.08523181,\n",
       "          0.045284  ,  0.05633426],\n",
       "        [ 0.03185945,  0.0110309 ,  0.04394806, ..., -0.06210862,\n",
       "         -0.06594026,  0.09912495],\n",
       "        [ 0.01330459, -0.0233338 , -0.02343411, ...,  0.0179272 ,\n",
       "          0.01875084,  0.08142737]], shape=(8, 384)),\n",
       " 'documents': ['This phone has an amazing battery life.',\n",
       "  'The screen quality is poor and not worth the price.',\n",
       "  'Excellent sound clarity and build quality.',\n",
       "  'Battery drains quickly, not suitable for travel.',\n",
       "  'Highly durable and water-resistant smartwatch.',\n",
       "  'There is a setting to be done for the louder audio output. Sound quality is great',\n",
       "  'Camera quality exceeds expectations in low light.',\n",
       "  'Display is vibrant, great for watching movies.'],\n",
       " 'uris': None,\n",
       " 'included': ['metadatas', 'documents', 'embeddings'],\n",
       " 'data': None,\n",
       " 'metadatas': [{'category': 'Electronics', 'product_id': 'P123', 'rating': 5},\n",
       "  {'category': 'Electronics', 'product_id': 'P123', 'rating': 2},\n",
       "  {'rating': 4, 'category': 'Audio', 'product_id': 'P456'},\n",
       "  {'product_id': 'P123', 'rating': 1, 'category': 'Electronics'},\n",
       "  {'category': 'Wearables', 'rating': 5, 'product_id': 'P789'},\n",
       "  {'category': 'Audio', 'product_id': 'P456', 'rating': 4},\n",
       "  {'category': 'Cameras', 'rating': 4, 'product_id': 'P321'},\n",
       "  {'product_id': 'P123', 'category': 'Electronics', 'rating': 4}]}"
      ]
     },
     "execution_count": 34,
     "metadata": {},
     "output_type": "execute_result"
    }
   ],
   "source": [
    "collection.peek()"
   ]
  },
  {
   "cell_type": "code",
   "execution_count": 35,
   "metadata": {},
   "outputs": [
    {
     "data": {
      "text/plain": [
       "{'ids': ['doc6'],\n",
       " 'embeddings': None,\n",
       " 'documents': ['There is a setting to be done for the louder audio output. Sound quality is great'],\n",
       " 'uris': None,\n",
       " 'included': ['metadatas', 'documents'],\n",
       " 'data': None,\n",
       " 'metadatas': [{'product_id': 'P456', 'category': 'Audio', 'rating': 4}]}"
      ]
     },
     "execution_count": 35,
     "metadata": {},
     "output_type": "execute_result"
    }
   ],
   "source": [
    "collection.get(ids='doc6')"
   ]
  },
  {
   "cell_type": "code",
   "execution_count": 36,
   "metadata": {},
   "outputs": [],
   "source": [
    "collection.delete(ids=['doc3','doc4'])"
   ]
  },
  {
   "cell_type": "code",
   "execution_count": 37,
   "metadata": {},
   "outputs": [
    {
     "data": {
      "text/plain": [
       "{'ids': ['doc1', 'doc2', 'doc5', 'doc6', 'doc7', 'doc8'],\n",
       " 'embeddings': array([[-0.0665448 ,  0.0415802 ,  0.02805798, ...,  0.00156581,\n",
       "         -0.0013664 ,  0.04444058],\n",
       "        [-0.03157043,  0.00038221,  0.02809887, ..., -0.02083447,\n",
       "          0.01370098,  0.09151227],\n",
       "        [-0.10404313,  0.06058613,  0.11677103, ..., -0.09714488,\n",
       "          0.0675921 ,  0.14357704],\n",
       "        [ 0.06710169, -0.10688053, -0.04933071, ...,  0.08523181,\n",
       "          0.045284  ,  0.05633426],\n",
       "        [ 0.03185945,  0.0110309 ,  0.04394806, ..., -0.06210862,\n",
       "         -0.06594026,  0.09912495],\n",
       "        [ 0.01330459, -0.0233338 , -0.02343411, ...,  0.0179272 ,\n",
       "          0.01875084,  0.08142737]], shape=(6, 384)),\n",
       " 'documents': ['This phone has an amazing battery life.',\n",
       "  'The screen quality is poor and not worth the price.',\n",
       "  'Highly durable and water-resistant smartwatch.',\n",
       "  'There is a setting to be done for the louder audio output. Sound quality is great',\n",
       "  'Camera quality exceeds expectations in low light.',\n",
       "  'Display is vibrant, great for watching movies.'],\n",
       " 'uris': None,\n",
       " 'included': ['metadatas', 'documents', 'embeddings'],\n",
       " 'data': None,\n",
       " 'metadatas': [{'rating': 5, 'category': 'Electronics', 'product_id': 'P123'},\n",
       "  {'category': 'Electronics', 'product_id': 'P123', 'rating': 2},\n",
       "  {'rating': 5, 'category': 'Wearables', 'product_id': 'P789'},\n",
       "  {'category': 'Audio', 'product_id': 'P456', 'rating': 4},\n",
       "  {'category': 'Cameras', 'product_id': 'P321', 'rating': 4},\n",
       "  {'product_id': 'P123', 'rating': 4, 'category': 'Electronics'}]}"
      ]
     },
     "execution_count": 37,
     "metadata": {},
     "output_type": "execute_result"
    }
   ],
   "source": [
    "collection.peek()"
   ]
  },
  {
   "cell_type": "code",
   "execution_count": 38,
   "metadata": {},
   "outputs": [],
   "source": [
    "client.delete_collection(name='product_reviews')"
   ]
  },
  {
   "cell_type": "code",
   "execution_count": 40,
   "metadata": {},
   "outputs": [],
   "source": [
    "# client.get_collection('product_reviews')"
   ]
  },
  {
   "cell_type": "markdown",
   "metadata": {},
   "source": [
    "Metadata filtering"
   ]
  },
  {
   "cell_type": "code",
   "execution_count": 41,
   "metadata": {},
   "outputs": [],
   "source": [
    "collection = client_r.create_collection(name=\"product_reviews\", metadata={\"description\":\"Reviews of products\", \"created\": str(datetime.now())})\n",
    "collection.add(ids=ids, metadatas=metadatas, documents=documents)"
   ]
  },
  {
   "cell_type": "code",
   "execution_count": 43,
   "metadata": {},
   "outputs": [
    {
     "data": {
      "text/plain": [
       "{'ids': [['doc6']],\n",
       " 'embeddings': None,\n",
       " 'documents': [['The audio is muffled and not loud enough.']],\n",
       " 'uris': None,\n",
       " 'included': ['metadatas', 'documents', 'distances'],\n",
       " 'data': None,\n",
       " 'metadatas': [[{'product_id': 'P456', 'category': 'Audio', 'rating': 2}]],\n",
       " 'distances': [[1.016019582748413]]}"
      ]
     },
     "execution_count": 43,
     "metadata": {},
     "output_type": "execute_result"
    }
   ],
   "source": [
    "collection.query(\n",
    "    query_texts=['sound quality'],\n",
    "    n_results=1,\n",
    "    where= {'rating': \n",
    "            {\n",
    "                '$in': [1,2,3]\n",
    "            }}\n",
    ")"
   ]
  },
  {
   "cell_type": "code",
   "execution_count": 44,
   "metadata": {},
   "outputs": [
    {
     "data": {
      "text/plain": [
       "{'ids': [['doc3']],\n",
       " 'embeddings': None,\n",
       " 'documents': [['Excellent sound clarity and build quality.']],\n",
       " 'uris': None,\n",
       " 'included': ['metadatas', 'documents', 'distances'],\n",
       " 'data': None,\n",
       " 'metadatas': [[{'product_id': 'P456', 'rating': 4, 'category': 'Audio'}]],\n",
       " 'distances': [[0.5910329222679138]]}"
      ]
     },
     "execution_count": 44,
     "metadata": {},
     "output_type": "execute_result"
    }
   ],
   "source": [
    "collection.query(\n",
    "    query_texts=['sound quality'],\n",
    "    n_results=1,\n",
    "    where= {'rating': \n",
    "            {\n",
    "                '$nin': [1,2,3]\n",
    "            }}\n",
    ")"
   ]
  },
  {
   "cell_type": "code",
   "execution_count": 46,
   "metadata": {},
   "outputs": [
    {
     "data": {
      "text/plain": [
       "{'ids': [['doc3', 'doc7']],\n",
       " 'embeddings': None,\n",
       " 'documents': [['Excellent sound clarity and build quality.',\n",
       "   'Camera quality exceeds expectations in low light.']],\n",
       " 'uris': None,\n",
       " 'included': ['metadatas', 'documents', 'distances'],\n",
       " 'data': None,\n",
       " 'metadatas': [[{'rating': 4, 'product_id': 'P456', 'category': 'Audio'},\n",
       "   {'rating': 4, 'product_id': 'P321', 'category': 'Cameras'}]],\n",
       " 'distances': [[0.5910329222679138, 1.339406132698059]]}"
      ]
     },
     "execution_count": 46,
     "metadata": {},
     "output_type": "execute_result"
    }
   ],
   "source": [
    "collection.query(\n",
    "    query_texts=['sound quality'],\n",
    "    n_results=2,\n",
    "    where= {'rating': \n",
    "            {\n",
    "                '$gt': 3\n",
    "            }}\n",
    ")"
   ]
  },
  {
   "cell_type": "markdown",
   "metadata": {},
   "source": [
    "Full text search"
   ]
  },
  {
   "cell_type": "code",
   "execution_count": 47,
   "metadata": {},
   "outputs": [
    {
     "data": {
      "text/plain": [
       "{'ids': [['doc3']],\n",
       " 'embeddings': None,\n",
       " 'documents': [['Excellent sound clarity and build quality.']],\n",
       " 'uris': None,\n",
       " 'included': ['metadatas', 'documents', 'distances'],\n",
       " 'data': None,\n",
       " 'metadatas': [[{'category': 'Audio', 'product_id': 'P456', 'rating': 4}]],\n",
       " 'distances': [[0.5910329222679138]]}"
      ]
     },
     "execution_count": 47,
     "metadata": {},
     "output_type": "execute_result"
    }
   ],
   "source": [
    "collection.query(\n",
    "    query_texts=['sound quality'],\n",
    "    n_results=1,\n",
    "    where_document= \n",
    "            {\n",
    "                '$contains': 'quality'\n",
    "            }\n",
    ")"
   ]
  },
  {
   "cell_type": "code",
   "execution_count": 51,
   "metadata": {},
   "outputs": [
    {
     "data": {
      "text/plain": [
       "{'ids': ['doc1', 'doc2', 'doc3', 'doc4', 'doc5', 'doc6', 'doc7', 'doc8'],\n",
       " 'embeddings': array([[-0.0665448 ,  0.0415802 ,  0.02805798, ...,  0.00156581,\n",
       "         -0.0013664 ,  0.04444058],\n",
       "        [-0.03157043,  0.00038221,  0.02809887, ..., -0.02083447,\n",
       "          0.01370098,  0.09151227],\n",
       "        [-0.04998122, -0.00628815,  0.0270207 , ...,  0.07026031,\n",
       "         -0.01461971,  0.05089299],\n",
       "        ...,\n",
       "        [ 0.03927212, -0.04580301, -0.01739653, ...,  0.04727325,\n",
       "          0.02423911,  0.08448103],\n",
       "        [ 0.03185945,  0.0110309 ,  0.04394806, ..., -0.06210862,\n",
       "         -0.06594026,  0.09912495],\n",
       "        [ 0.01330459, -0.0233338 , -0.02343411, ...,  0.0179272 ,\n",
       "          0.01875084,  0.08142737]], shape=(8, 384)),\n",
       " 'documents': None,\n",
       " 'uris': None,\n",
       " 'included': ['embeddings'],\n",
       " 'data': None,\n",
       " 'metadatas': None}"
      ]
     },
     "execution_count": 51,
     "metadata": {},
     "output_type": "execute_result"
    }
   ],
   "source": [
    "collection.get(include=['embeddings'])"
   ]
  },
  {
   "cell_type": "code",
   "execution_count": null,
   "metadata": {},
   "outputs": [],
   "source": []
  }
 ],
 "metadata": {
  "kernelspec": {
   "display_name": ".venv",
   "language": "python",
   "name": "python3"
  },
  "language_info": {
   "codemirror_mode": {
    "name": "ipython",
    "version": 3
   },
   "file_extension": ".py",
   "mimetype": "text/x-python",
   "name": "python",
   "nbconvert_exporter": "python",
   "pygments_lexer": "ipython3",
   "version": "3.13.3"
  }
 },
 "nbformat": 4,
 "nbformat_minor": 2
}
